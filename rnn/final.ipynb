{
 "cells": [
  {
   "cell_type": "code",
   "execution_count": null,
   "metadata": {},
   "outputs": [],
   "source": [
    "class Layer: \n",
    "    \n",
    "    def __init__(self, input, hidden, output, input_weight, hidden_weight, output_weight) -> None:\n",
    "        self.input = input \n",
    "        self.hidden = hidden \n",
    "        self.output = output \n",
    "        \n",
    "        self.input_weight = input_weight\n",
    "        self.hidden_weight = hidden_weight \n",
    "        self.output_weight = output_weight\n",
    "    \n",
    "    def forward(): \n",
    "        pass \n",
    "    \n",
    "    def backward(): \n",
    "        pass "
   ]
  },
  {
   "cell_type": "code",
   "execution_count": 2,
   "metadata": {},
   "outputs": [],
   "source": [
    "class Activation_Tanh:\n",
    "    \n",
    "    def forward(self, inputs): \n",
    "        pass \n",
    "    \n",
    "    def backward(self, input): \n",
    "        pass \n",
    "    "
   ]
  },
  {
   "cell_type": "code",
   "execution_count": 4,
   "metadata": {},
   "outputs": [],
   "source": [
    "class Loss_MSE: \n",
    "    \n",
    "    def calculate(self, output): \n",
    "        pass"
   ]
  },
  {
   "cell_type": "code",
   "execution_count": 7,
   "metadata": {},
   "outputs": [],
   "source": [
    "class Optimizer_SGD: \n",
    "    def __innot__ (self, learning_rate=1., decay=0., momentum=0.):\n",
    "        self.learning_rate = learning_rate \n",
    "        self.decay = decay \n",
    "        self.momentum = momentum \n",
    "        \n",
    "    def update_parameters(): \n",
    "        pass \n",
    "    \n",
    "    \n",
    "\n",
    "     "
   ]
  }
 ],
 "metadata": {
  "kernelspec": {
   "display_name": "LLMEE",
   "language": "python",
   "name": "python3"
  },
  "language_info": {
   "codemirror_mode": {
    "name": "ipython",
    "version": 3
   },
   "file_extension": ".py",
   "mimetype": "text/x-python",
   "name": "python",
   "nbconvert_exporter": "python",
   "pygments_lexer": "ipython3",
   "version": "3.12.0"
  },
  "orig_nbformat": 4
 },
 "nbformat": 4,
 "nbformat_minor": 2
}
