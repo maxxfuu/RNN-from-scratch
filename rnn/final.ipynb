{
 "cells": [
  {
   "cell_type": "code",
   "execution_count": null,
   "metadata": {},
   "outputs": [],
   "source": [
    "class Layer: \n",
    "    \n",
    "    def __init__(self, input, hidden, output, input_weight, hidden_weight, output_weight) -> None:\n",
    "        self.input = input \n",
    "        self.hidden = hidden \n",
    "        self.output = output \n",
    "        \n",
    "        self.input_weight = input_weight\n",
    "        self.hidden_weight = hidden_weight \n",
    "        self.output_weight = output_weight\n",
    "    \n",
    "    def forward(): \n",
    "        pass \n",
    "    \n",
    "    def backward(): \n",
    "        pass \n",
    "    \n",
    "    "
   ]
  }
 ],
 "metadata": {
  "language_info": {
   "name": "python"
  },
  "orig_nbformat": 4
 },
 "nbformat": 4,
 "nbformat_minor": 2
}
